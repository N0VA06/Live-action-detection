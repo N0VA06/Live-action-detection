{
 "cells": [
  {
   "cell_type": "code",
   "execution_count": null,
   "id": "48d176b9-aff7-4b12-8380-6e06bf2336dc",
   "metadata": {},
   "outputs": [],
   "source": [
    "import cv2\n",
    "import numpy as np\n",
    "from tensorflow.keras.models import load_model\n",
    "\n",
    "model = load_model('98.h5')\n",
    "\n",
    "class_names = {\n",
    "    0: 'calling',\n",
    "    1: 'clapping',\n",
    "    2: 'cycling',\n",
    "    3: 'dancing',\n",
    "    4: 'drinking',\n",
    "    5: 'eating',\n",
    "    6: 'fighting',\n",
    "    7: 'hugging',\n",
    "    8: 'laughingh',\n",
    "    9: 'litenings_to_music',\n",
    "    10: 'running',\n",
    "    11: 'sitting',\n",
    "    12: 'sleeping',\n",
    "    13: 'texting',\n",
    "    14: 'using_laptop'\n",
    "}\n",
    "\n",
    "cap = cv2.VideoCapture(0)\n",
    "\n",
    "while True:\n",
    "    ret, frame = cap.read()\n",
    "    if not ret:\n",
    "        break\n",
    "    resized_frame = cv2.resize(frame, (128, 128))\n",
    "    input_data = np.expand_dims(resized_frame, axis=0) / 255.0\n",
    "    predictions = model.predict(input_data)\n",
    "    predicted_class = np.argmax(predictions, axis=1)[0]\n",
    "    predicted_label = class_names[predicted_class]\n",
    "    cv2.putText(frame, f'Prediction: {predicted_label}', (10, 30),\n",
    "                cv2.FONT_HERSHEY_SIMPLEX, 1, (255, 0, 0), 2, cv2.LINE_AA)\n",
    "    cv2.imshow('Webcam Feed', frame)\n",
    "    if cv2.waitKey(1) & 0xFF == ord('q'):\n",
    "        break\n",
    "cap.release()\n",
    "cv2.destroyAllWindows()"
   ]
  },
  {
   "cell_type": "code",
   "execution_count": null,
   "id": "8e9ddb3a-043a-4d26-bfc7-f02fcff64819",
   "metadata": {},
   "outputs": [],
   "source": []
  }
 ],
 "metadata": {
  "kernelspec": {
   "display_name": "Python 3 (ipykernel)",
   "language": "python",
   "name": "python3"
  },
  "language_info": {
   "codemirror_mode": {
    "name": "ipython",
    "version": 3
   },
   "file_extension": ".py",
   "mimetype": "text/x-python",
   "name": "python",
   "nbconvert_exporter": "python",
   "pygments_lexer": "ipython3",
   "version": "3.12.4"
  }
 },
 "nbformat": 4,
 "nbformat_minor": 5
}
